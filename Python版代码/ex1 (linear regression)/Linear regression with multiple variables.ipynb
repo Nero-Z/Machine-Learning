{
 "cells": [
  {
   "cell_type": "markdown",
   "metadata": {},
   "source": [
    "# Linear regression with multiple variables"
   ]
  },
  {
   "cell_type": "code",
   "execution_count": 233,
   "metadata": {},
   "outputs": [],
   "source": [
    "import numpy as np\n",
    "import pandas as pd\n",
    "import matplotlib.pyplot as plt"
   ]
  },
  {
   "cell_type": "code",
   "execution_count": 234,
   "metadata": {},
   "outputs": [],
   "source": [
    "path = 'ex1data2.txt'\n",
    "data = pd.read_csv(path, names=['Size', 'Bedrooms', 'Price'])"
   ]
  },
  {
   "cell_type": "code",
   "execution_count": 235,
   "metadata": {},
   "outputs": [],
   "source": [
    "# 特征缩放，仅对X\n",
    "# mean = data.mean()\n",
    "# std = data.std()\n",
    "# data.iloc[:, 0:-1] = (data.iloc[:, 0:-1] - mean) / std\n",
    "# data.head()"
   ]
  },
  {
   "cell_type": "code",
   "execution_count": 236,
   "metadata": {},
   "outputs": [
    {
     "data": {
      "text/html": [
       "<div>\n",
       "<style scoped>\n",
       "    .dataframe tbody tr th:only-of-type {\n",
       "        vertical-align: middle;\n",
       "    }\n",
       "\n",
       "    .dataframe tbody tr th {\n",
       "        vertical-align: top;\n",
       "    }\n",
       "\n",
       "    .dataframe thead th {\n",
       "        text-align: right;\n",
       "    }\n",
       "</style>\n",
       "<table border=\"1\" class=\"dataframe\">\n",
       "  <thead>\n",
       "    <tr style=\"text-align: right;\">\n",
       "      <th></th>\n",
       "      <th>Size</th>\n",
       "      <th>Bedrooms</th>\n",
       "      <th>Price</th>\n",
       "    </tr>\n",
       "  </thead>\n",
       "  <tbody>\n",
       "    <tr>\n",
       "      <th>0</th>\n",
       "      <td>0.130010</td>\n",
       "      <td>-0.223675</td>\n",
       "      <td>0.475747</td>\n",
       "    </tr>\n",
       "    <tr>\n",
       "      <th>1</th>\n",
       "      <td>-0.504190</td>\n",
       "      <td>-0.223675</td>\n",
       "      <td>-0.084074</td>\n",
       "    </tr>\n",
       "    <tr>\n",
       "      <th>2</th>\n",
       "      <td>0.502476</td>\n",
       "      <td>-0.223675</td>\n",
       "      <td>0.228626</td>\n",
       "    </tr>\n",
       "    <tr>\n",
       "      <th>3</th>\n",
       "      <td>-0.735723</td>\n",
       "      <td>-1.537767</td>\n",
       "      <td>-0.867025</td>\n",
       "    </tr>\n",
       "    <tr>\n",
       "      <th>4</th>\n",
       "      <td>1.257476</td>\n",
       "      <td>1.090417</td>\n",
       "      <td>1.595389</td>\n",
       "    </tr>\n",
       "  </tbody>\n",
       "</table>\n",
       "</div>"
      ],
      "text/plain": [
       "       Size  Bedrooms     Price\n",
       "0  0.130010 -0.223675  0.475747\n",
       "1 -0.504190 -0.223675 -0.084074\n",
       "2  0.502476 -0.223675  0.228626\n",
       "3 -0.735723 -1.537767 -0.867025\n",
       "4  1.257476  1.090417  1.595389"
      ]
     },
     "execution_count": 236,
     "metadata": {},
     "output_type": "execute_result"
    }
   ],
   "source": [
    "# 特征缩放，对X和y\n",
    "mean = data.mean()\n",
    "std = data.std()\n",
    "data = (data - mean) / std\n",
    "data.head()"
   ]
  },
  {
   "cell_type": "code",
   "execution_count": 237,
   "metadata": {},
   "outputs": [],
   "source": [
    "data.insert(0, 'One', 1)"
   ]
  },
  {
   "cell_type": "code",
   "execution_count": 238,
   "metadata": {},
   "outputs": [
    {
     "data": {
      "text/plain": [
       "((47, 3), (47, 1), (1, 3))"
      ]
     },
     "execution_count": 238,
     "metadata": {},
     "output_type": "execute_result"
    }
   ],
   "source": [
    "X = data.iloc[:, :-1].values\n",
    "y = data.iloc[:, -1].values.reshape(-1, 1)\n",
    "theta = np.zeros((1, X.shape[1]))\n",
    "X.shape, y.shape, theta.shape"
   ]
  },
  {
   "cell_type": "code",
   "execution_count": 239,
   "metadata": {},
   "outputs": [],
   "source": [
    "def compute_cost(X, y, theta):\n",
    "    m = len(X)\n",
    "    J = np.sum((X @ theta.T - y) ** 2) / (2 * m)\n",
    "    return J"
   ]
  },
  {
   "cell_type": "code",
   "execution_count": 240,
   "metadata": {},
   "outputs": [],
   "source": [
    "def gradient(X, y, theta):\n",
    "    m = len(X)\n",
    "    dJ = (X @ theta.T - y).T @ X / m\n",
    "    return dJ"
   ]
  },
  {
   "cell_type": "code",
   "execution_count": 241,
   "metadata": {},
   "outputs": [],
   "source": [
    "def batch_gradient_descent(X, y, theta, iters=1000, alpha=0.01, show_cost='False'):\n",
    "    costs = []\n",
    "    for i in range(iters):\n",
    "        theta = theta - alpha * gradient(X, y, theta)\n",
    "        cost = compute_cost(X, y, theta)\n",
    "        costs.append(cost)\n",
    "        \n",
    "        if show_cost == True and i % 100 == 0:\n",
    "            print(cost)\n",
    "    \n",
    "    return theta, costs"
   ]
  },
  {
   "cell_type": "code",
   "execution_count": 242,
   "metadata": {},
   "outputs": [
    {
     "name": "stdout",
     "output_type": "stream",
     "text": [
      "0.4633036247760586\n",
      "0.1375554702722021\n",
      "0.13119471832550011\n",
      "0.13072419658187798\n",
      "0.13068927943501774\n",
      "0.13068668824425508\n",
      "0.13068649595278223\n",
      "0.13068648168289093\n",
      "0.13068648062392665\n",
      "0.13068648054534124\n"
     ]
    },
    {
     "data": {
      "text/plain": [
       "array([[-1.11984889e-16,  8.84764932e-01, -5.31777642e-02]])"
      ]
     },
     "execution_count": 242,
     "metadata": {},
     "output_type": "execute_result"
    }
   ],
   "source": [
    "iters = 1000\n",
    "alpha = 0.03\n",
    "theta, costs = batch_gradient_descent(X, y, theta, iters, alpha, show_cost=True)\n",
    "theta"
   ]
  },
  {
   "cell_type": "code",
   "execution_count": 243,
   "metadata": {},
   "outputs": [
    {
     "data": {
      "image/png": "[encoded data removed]",
      "text/plain": [
       "<Figure size 432x288 with 1 Axes>"
      ]
     },
     "metadata": {
      "needs_background": "light"
     },
     "output_type": "display_data"
    }
   ],
   "source": [
    "fig, ax = plt.subplots()\n",
    "ax.plot(np.arange(iters), costs)\n",
    "ax.set_xlabel('Iterations')\n",
    "ax.set_ylabel('Cost')\n",
    "plt.show()"
   ]
  },
  {
   "cell_type": "markdown",
   "metadata": {},
   "source": [
    "## Normal Equations"
   ]
  },
  {
   "cell_type": "code",
   "execution_count": 244,
   "metadata": {},
   "outputs": [],
   "source": [
    "def normal_eqn(X, y):\n",
    "    # X:R(m*n)\n",
    "    # y:R(m*1)\n",
    "    \n",
    "    #Linear algebra\n",
    "    theta = np.linalg.pinv(X.T @ X) @ X.T @ y\n",
    "    return theta"
   ]
  },
  {
   "cell_type": "code",
   "execution_count": 245,
   "metadata": {},
   "outputs": [
    {
     "name": "stdout",
     "output_type": "stream",
     "text": [
      "0.13068648053904197\n"
     ]
    },
    {
     "data": {
      "text/plain": [
       "array([[ 0.        ],\n",
       "       [ 0.88476599],\n",
       "       [-0.05317882]])"
      ]
     },
     "execution_count": 245,
     "metadata": {},
     "output_type": "execute_result"
    }
   ],
   "source": [
    "theta2 = normal_eqn(X, y)\n",
    "print(compute_cost(X, y, theta2.T))\n",
    "theta2"
   ]
  },
  {
   "cell_type": "code",
   "execution_count": 246,
   "metadata": {},
   "outputs": [
    {
     "data": {
      "text/plain": [
       "array([[356283.1103389 ],\n",
       "       [286120.93063401],\n",
       "       [397489.46984812],\n",
       "       [269244.1857271 ],\n",
       "       [472277.85514636],\n",
       "       [330979.02101847],\n",
       "       [276933.02614885],\n",
       "       [262037.48402897],\n",
       "       [255494.58235014],\n",
       "       [271364.59918815],\n",
       "       [324714.54068768],\n",
       "       [341805.20024107],\n",
       "       [326492.02609913],\n",
       "       [669293.21223209],\n",
       "       [239902.98686016],\n",
       "       [374830.38333402],\n",
       "       [255879.96102141],\n",
       "       [235448.2452916 ],\n",
       "       [417846.48160547],\n",
       "       [476593.38604091],\n",
       "       [309369.11319496],\n",
       "       [334951.62386342],\n",
       "       [286677.77333009],\n",
       "       [327777.17551607],\n",
       "       [604913.37413438],\n",
       "       [216515.5936252 ],\n",
       "       [266353.01492351],\n",
       "       [415030.01477434],\n",
       "       [369647.33504459],\n",
       "       [430482.39959029],\n",
       "       [328130.30083656],\n",
       "       [220070.5644481 ],\n",
       "       [338635.60808944],\n",
       "       [500087.73659911],\n",
       "       [306756.36373941],\n",
       "       [263429.59076914],\n",
       "       [235865.87731365],\n",
       "       [351442.99009906],\n",
       "       [641418.82407778],\n",
       "       [355619.31031959],\n",
       "       [303768.43288347],\n",
       "       [374937.34065726],\n",
       "       [411999.63329673],\n",
       "       [230436.66102696],\n",
       "       [190729.36558116],\n",
       "       [312464.00137413],\n",
       "       [230854.29304902]])"
      ]
     },
     "execution_count": 246,
     "metadata": {},
     "output_type": "execute_result"
    }
   ],
   "source": [
    "#用原始样本预测\n",
    "(X @ theta2) * std[2] + mean[2]"
   ]
  }
 ],
 "metadata": {
  "kernelspec": {
   "display_name": "Python 3",
   "language": "python",
   "name": "python3"
  },
  "language_info": {
   "codemirror_mode": {
    "name": "ipython",
    "version": 3
   },
   "file_extension": ".py",
   "mimetype": "text/x-python",
   "name": "python",
   "nbconvert_exporter": "python",
   "pygments_lexer": "ipython3",
   "version": "3.6.4"
  }
 },
 "nbformat": 4,
 "nbformat_minor": 2
}
